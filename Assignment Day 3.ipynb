{
 "cells": [
  {
   "cell_type": "markdown",
   "metadata": {},
   "source": [
    "# Questions 1:\n",
    "Create a numpy array starting from 2 till 50 with a stepsize of 3."
   ]
  },
  {
   "cell_type": "code",
   "execution_count": 7,
   "metadata": {},
   "outputs": [
    {
     "name": "stdout",
     "output_type": "stream",
     "text": [
      "[ 2  5  8 11 14 17 20 23 26 29 32 35 38 41 44 47 50]\n"
     ]
    }
   ],
   "source": [
    "# Importing Numpy Library\n",
    "import numpy as np\n",
    "\n",
    "# creating a array using numpy arange\n",
    "ar = np.arange(2,51,3)\n",
    "\n",
    "# printing array\n",
    "print(ar)"
   ]
  },
  {
   "cell_type": "markdown",
   "metadata": {},
   "source": [
    "# Questions 2:\n",
    "Accept two lists of 5 elements each from the user.\n",
    "Convert them to numpy arrays. Concatenate these arrays and print it. Also sort these arrays and print it."
   ]
  },
  {
   "cell_type": "code",
   "execution_count": 16,
   "metadata": {},
   "outputs": [
    {
     "name": "stdout",
     "output_type": "stream",
     "text": [
      "Enter the value for list_1 :1\n",
      "Enter the value for list_1 :4\n",
      "Enter the value for list_1 :5\n",
      "Enter the value for list_1 :7\n",
      "Enter the value for list_1 :2\n",
      "Enter the value for list_2 :10\n",
      "Enter the value for list_2 :5\n",
      "Enter the value for list_2 :3\n",
      "Enter the value for list_2 :12 \n",
      "Enter the value for list_2 :13\n",
      "concatenation of arrays are : [ 1  4  5  7  2 10  5  3 12 13]\n",
      "Sorted array : [ 1  2  3  4  5  5  7 10 12 13]\n"
     ]
    }
   ],
   "source": [
    "# importing numpy \n",
    "import numpy as np\n",
    "\n",
    "# creating a 2 empty list:\n",
    "list_1 = []\n",
    "list_2 = []\n",
    "\n",
    "# getting values for lst_1 from user:\n",
    "for i in range(5):\n",
    "    my_input = int(input(\"Enter the value for list_1 :\"))\n",
    "    list_1.append(my_input)\n",
    "\n",
    "\n",
    "# getting values for lst_2 from user:\n",
    "for i in range(5):\n",
    "    my_input = int(input(\"Enter the value for list_2 :\"))\n",
    "    list_2.append(my_input)\n",
    "\n",
    "\n",
    "# conversion of List to Array\n",
    "\n",
    "array_1 = np.array(list_1)\n",
    "array_2 = np.array(list_2)\n",
    "\n",
    "# concatenating 2 array:\n",
    "\n",
    "array_concat = np.concatenate((array_1,array_2))\n",
    "\n",
    "print(\"concatenation of arrays are :\", array_concat)\n",
    "\n",
    "# Sorting of array\n",
    "\n",
    "print(\"Sorted array :\", np.sort(array_concat))\n"
   ]
  },
  {
   "cell_type": "markdown",
   "metadata": {},
   "source": [
    "# Questions 3:\n",
    "Write a code snippet to find the dimensions of a ndarray and its size."
   ]
  },
  {
   "cell_type": "code",
   "execution_count": 15,
   "metadata": {},
   "outputs": [
    {
     "name": "stdout",
     "output_type": "stream",
     "text": [
      "Dimensions of an array is : 2\n",
      "Size of an array is : 12\n"
     ]
    }
   ],
   "source": [
    "# importing numpy\n",
    "import numpy as np\n",
    "\n",
    "# creating a 2d array\n",
    "arr = np.array([[1, 4, 7], [3, 6, 9], [1, 4, 7], [3, 6, 9]])\n",
    "\n",
    "# Printing array dimensions (axes)\n",
    "print(\"Dimensions of an array is :\", arr.ndim)\n",
    "\n",
    "# Printing size of array\n",
    "print(\"Size of an array is :\", array_1.size)"
   ]
  },
  {
   "cell_type": "markdown",
   "metadata": {},
   "source": [
    "# Questions 4:\n",
    "\n",
    "How to convert a 1D array into a 2D array? Demonstrate with the help of a code snippet\n",
    "Hint: np.newaxis, np.expand_dims"
   ]
  },
  {
   "cell_type": "code",
   "execution_count": 5,
   "metadata": {},
   "outputs": [
    {
     "name": "stdout",
     "output_type": "stream",
     "text": [
      "10\n",
      "Test 1D array (shape) : (10,)\n",
      "Test` 2D array for row is : (1, 10)\n",
      "Test` 2D array for column is : (10, 1)\n"
     ]
    }
   ],
   "source": [
    "import numpy as np\n",
    "\n",
    "arr = np.arange(int(input()))\n",
    "print(\"Test 1D array (shape) :\", arr.shape)\n",
    "\n",
    "two_d_array_row = arr[np.newaxis]\n",
    "print(\"Test` 2D array for row is :\", two_d_array_row.shape)\n",
    "\n",
    "two_d_array_col = arr[:, np.newaxis]\n",
    "print(\"Test` 2D array for column is :\", two_d_array_col.shape)"
   ]
  },
  {
   "cell_type": "markdown",
   "metadata": {},
   "source": [
    "# Questions 5:\n",
    "Consider two square numpy arrays. Stack them vertically and horizontally.\n",
    "Hint: Use vstack(), hstack()"
   ]
  },
  {
   "cell_type": "code",
   "execution_count": 12,
   "metadata": {},
   "outputs": [
    {
     "name": "stdout",
     "output_type": "stream",
     "text": [
      "\n",
      "Horizontal Append : [  1   4   9  16  25  36  49  64  81 100]\n",
      "\n",
      "Vertical Append : [[  1   4   9  16  25]\n",
      " [ 36  49  64  81 100]]\n"
     ]
    }
   ],
   "source": [
    "# importing numpy\n",
    "import numpy as np\n",
    "\n",
    "# creating a array with square values\n",
    "arr_1 = np.square([1, 2, 3, 4, 5])\n",
    "arr_2 = np.square([6, 7, 8, 9, 10])\n",
    "\n",
    "# stacking and printing the value\n",
    "print(\"\\nHorizontal Append :\", np.hstack((arr_1, arr_2)))\n",
    "print(\"\\nVertical Append :\", np.vstack((arr_1, arr_2)))"
   ]
  },
  {
   "cell_type": "markdown",
   "metadata": {},
   "source": [
    "# Questions 6:\n",
    "__How to get unique items and counts of unique items?__"
   ]
  },
  {
   "cell_type": "markdown",
   "metadata": {},
   "source": [
    "unique method in numpy is used to get the unique values from the list and return count attribute of unique method return the count of unique value from the list."
   ]
  },
  {
   "cell_type": "code",
   "execution_count": 13,
   "metadata": {},
   "outputs": [
    {
     "name": "stdout",
     "output_type": "stream",
     "text": [
      "[[ 1  2]\n",
      " [ 2  2]\n",
      " [ 3  1]\n",
      " [ 4  2]\n",
      " [ 5  2]\n",
      " [ 6  1]\n",
      " [ 7  1]\n",
      " [ 8  1]\n",
      " [ 9  1]\n",
      " [10  1]\n",
      " [16  1]\n",
      " [25  1]]\n"
     ]
    }
   ],
   "source": [
    "# importing numpy\n",
    "import numpy as np\n",
    "\n",
    "# creating a array \n",
    "arr_1 = np.array([1, 4, 9, 16, 25, 1, 4, 2, 3, 2, 5, 6, 5, 7, 8, 10])\n",
    "\n",
    "# getting unique charater and its count\n",
    "unique, counts = np.unique(arr_1, return_counts=True)\n",
    "\n",
    "# making a \n",
    "arr = np.asarray((unique, counts)).T\n",
    "\n",
    "print(arr)"
   ]
  },
  {
   "cell_type": "code",
   "execution_count": null,
   "metadata": {},
   "outputs": [],
   "source": []
  }
 ],
 "metadata": {
  "kernelspec": {
   "display_name": "Python 3",
   "language": "python",
   "name": "python3"
  },
  "language_info": {
   "codemirror_mode": {
    "name": "ipython",
    "version": 3
   },
   "file_extension": ".py",
   "mimetype": "text/x-python",
   "name": "python",
   "nbconvert_exporter": "python",
   "pygments_lexer": "ipython3",
   "version": "3.7.6"
  }
 },
 "nbformat": 4,
 "nbformat_minor": 4
}
